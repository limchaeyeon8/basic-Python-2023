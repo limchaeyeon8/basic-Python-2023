{
 "cells": [
  {
   "attachments": {},
   "cell_type": "markdown",
   "metadata": {},
   "source": [
    "## 1번 문제"
   ]
  },
  {
   "cell_type": "code",
   "execution_count": 2,
   "metadata": {},
   "outputs": [
    {
     "name": "stdout",
     "output_type": "stream",
     "text": [
      "원의 넓이는 28.2743 입니다.\n"
     ]
    }
   ],
   "source": [
    "import math\n",
    "\n",
    "radius = int(input('반지름을 입력하세요'))\n",
    "\n",
    "print(f'원의 넓이는 {math.pi * radius * radius:.4f} 입니다.')"
   ]
  },
  {
   "attachments": {},
   "cell_type": "markdown",
   "metadata": {},
   "source": [
    "## 2번 문제"
   ]
  },
  {
   "cell_type": "code",
   "execution_count": 14,
   "metadata": {},
   "outputs": [
    {
     "name": "stdout",
     "output_type": "stream",
     "text": [
      "mars은 화성입니다.\n"
     ]
    }
   ],
   "source": [
    "solar = { 'mercury': '수성', 'venus': '금성', 'earth': '지구', 'mars': '화성' ,\n",
    "        'jupiter': '목성', 'saturn': '토성', 'uranus': '천왕성', 'neptune': '혜왕성' }\n",
    "\n",
    "planet = input('행성이름(영어) 입력하세요 > ').lower()\n",
    "\n",
    "try:    \n",
    "    print(f'{planet}은 {solar[planet]}입니다.')\n",
    "except:\n",
    "    print('찾는 행성이 없습니다')"
   ]
  },
  {
   "attachments": {},
   "cell_type": "markdown",
   "metadata": {},
   "source": [
    "## 3번 문제"
   ]
  },
  {
   "cell_type": "code",
   "execution_count": 22,
   "metadata": {},
   "outputs": [
    {
     "name": "stdout",
     "output_type": "stream",
     "text": [
      "7 / I'm GOING to LEAVE the DOOR open "
     ]
    }
   ],
   "source": [
    "sentance = input('영어 문장을 입력하세요')\n",
    "\n",
    "words = sentance.split()\n",
    "print(len(words), end=' / ')\n",
    "\n",
    "for i, word in enumerate(words):\n",
    "    if (i+1) % 2 == 0:\n",
    "        print(word.upper(), end=' ')\n",
    "    else:\n",
    "        print(word, end=' ')"
   ]
  },
  {
   "attachments": {},
   "cell_type": "markdown",
   "metadata": {},
   "source": [
    "## 4번 문제"
   ]
  },
  {
   "cell_type": "code",
   "execution_count": 26,
   "metadata": {},
   "outputs": [
    {
     "name": "stdout",
     "output_type": "stream",
     "text": [
      "1 3 5 7 9 --> 9 7 5 3 1 "
     ]
    }
   ],
   "source": [
    "numbers = list(map(int, input('수를 여러개 입력하세요').split()))\n",
    "\n",
    "for i in numbers:\n",
    "    print(i, end=' ')\n",
    "\n",
    "print('-->', end=' ')\n",
    "numbers.reverse()\n",
    "\n",
    "for i in numbers:\n",
    "    print(i, end=' ')"
   ]
  },
  {
   "attachments": {},
   "cell_type": "markdown",
   "metadata": {},
   "source": [
    "## 5번 문제"
   ]
  },
  {
   "cell_type": "code",
   "execution_count": 27,
   "metadata": {},
   "outputs": [
    {
     "name": "stdout",
     "output_type": "stream",
     "text": [
      "3 --> 3 6 9 12 15 18 21 24 27 "
     ]
    }
   ],
   "source": [
    "number = int(input('구구단 단 입력 > '))\n",
    "\n",
    "print(f'{number} --> ', end='')\n",
    "\n",
    "for i in range(1, 10):\n",
    "    print(f'{number*i}', end=' ')    "
   ]
  }
 ],
 "metadata": {
  "kernelspec": {
   "display_name": "Python 3",
   "language": "python",
   "name": "python3"
  },
  "language_info": {
   "codemirror_mode": {
    "name": "ipython",
    "version": 3
   },
   "file_extension": ".py",
   "mimetype": "text/x-python",
   "name": "python",
   "nbconvert_exporter": "python",
   "pygments_lexer": "ipython3",
   "version": "3.11.1"
  },
  "orig_nbformat": 4,
  "vscode": {
   "interpreter": {
    "hash": "a3d8f53f1429d27b792a3789224562ddd32c1395c9a9cfbb17b3c19c3b9a493d"
   }
  }
 },
 "nbformat": 4,
 "nbformat_minor": 2
}
