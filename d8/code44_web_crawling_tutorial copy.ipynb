{
 "cells": [
  {
   "attachments": {},
   "cell_type": "markdown",
   "metadata": {},
   "source": [
    "## 웹 크롤링\n",
    "\n",
    "### 인터넷 접속 라이브러리 추가"
   ]
  },
  {
   "cell_type": "code",
   "execution_count": 4,
   "metadata": {},
   "outputs": [
    {
     "name": "stdout",
     "output_type": "stream",
     "text": [
      "부산의 현재 기온은 9.7˚C 입니다\n",
      "부산의 현재 기온은 36% 입니다\n"
     ]
    }
   ],
   "source": [
    "# 1. urllib 호출\n",
    "from urllib.request import urlopen, Request     #d5 uralib 불러오기 <<< 참고\n",
    "\n",
    "# 2. 도시별 날씨 검색함수\n",
    "def get_weather(city):\n",
    "    # 기상청 홈페이지 - 도시별 날씨 페이지\n",
    "    url = 'https://www.weather.go.kr/w/obs-climate/land/city-obs.do'\n",
    "    page = urlopen(url=url)\n",
    "\n",
    "    text = page.read().decode('utf-8')\n",
    "    text = text[text.find(f'>{city}</a>'):]\n",
    "\n",
    "# 기온 가져오기\n",
    "    for i in range(7):          # 총 13 raw\n",
    "        text = text[text.find(f'<td>')+1:]\n",
    "\n",
    "    start = 3                   # # 3 번째 이후 인덱스 ~ ((( 'td>' 제외하고 읽기)))\n",
    "    end = text.find('</td>')\n",
    "    current_temp = text[start:end]\n",
    "\n",
    "    print(f'{city}의 현재 기온은 {current_temp}˚C 입니다')\n",
    "\n",
    "\n",
    "# 습도 가져오기\n",
    "    for i in range(3):          # 7 + '3' => '10' 위치\n",
    "        text = text[text.find(f'<td>')+1:]\n",
    "\n",
    "    start = 3                   \n",
    "    end = text.find('</td>')     \n",
    "    current_hum = text[start:end]\n",
    "\n",
    "    print(f'{city}의 현재 기온은 {current_hum}% 입니다')\n",
    "\n",
    "\n",
    "# 3.\n",
    "get_weather('부산')"
   ]
  },
  {
   "attachments": {},
   "cell_type": "markdown",
   "metadata": {},
   "source": [
    "### OpenAPI 크롤링\n",
    "\n",
    "- 공공 데이터 포털\n",
    "    - https://www.data.go.kr\n",
    "    - 부산광역시 버스정보안내기 현황"
   ]
  },
  {
   "cell_type": "code",
   "execution_count": 5,
   "metadata": {},
   "outputs": [
    {
     "data": {
      "text/plain": [
       "'https://apis.data.go.kr/6260000/BusanTblBusinfoeqStusService/getTblBusinfoeqStusInfo?serviceKey=nCm3nRGTwdBdzLV9edtOZ7YExTaj%2FG8IDt2pCwiXRZG8DQP1DLaVHXOJglvIdqym11%2BOGO4lDr8VFI12IuJxRQ%3D%3D&pageNo=1&numOfRows=10&stationLoc=%EB%A1%AF%EB%8D%B0%EB%B0%B1%ED%99%94%EC%A0%90&resultType=json'"
      ]
     },
     "execution_count": 5,
     "metadata": {},
     "output_type": "execute_result"
    }
   ],
   "source": [
    "from urllib.request import urlopen, Request     # Request 사용하면 응답(response)가 와서 보다 안전\n",
    "from urllib.parse import quote                  # 한글을 URL encode 변환하는 함수 // 롯데 -> \n",
    "import json\n",
    "\n",
    "# 2. \n",
    "\n",
    "def getRequestUrl(url):\n",
    "    req = Request(url)\n",
    "\n",
    "    # 예외 처리\n",
    "    try:\n",
    "        res = urlopen(req)\n",
    "        if res.getcode() == 200:\n",
    "            return res.read().decode('utf-8')\n",
    "\n",
    "    except Exception as e:\n",
    "        print(e)\n",
    "        return None\n",
    "\n",
    "# stationName = 정류소 이름\n",
    "def getDataSearch(stationName, type):\n",
    "    api_url = 'https://apis.data.go.kr/6260000/BusanTblBusinfoeqStusService/getTblBusinfoeqStusInfo'\n",
    "    api_url += '?serviceKey=nCm3nRGTwdBdzLV9edtOZ7YExTaj%2FG8IDt2pCwiXRZG8DQP1DLaVHXOJglvIdqym11%2BOGO4lDr8VFI12IuJxRQ%3D%3D'\n",
    "    api_url += '&pageNo=1&numOfRows=10'\n",
    "    api_url += f'&stationLoc={quote(stationName)}'\n",
    "    api_url += f'&resultType={type}'\n",
    "\n",
    "    return api_url\n",
    "#getDataSearch('롯데백화점', 'xml')\n",
    "\n",
    "# 3. \n",
    "    reponse = getRequestUrl(api_url)\n",
    "\n",
    "    if reponse == None:\n",
    "        return None\n",
    "    else:\n",
    "        return json.loads(reponse)\n",
    "    \n",
    "getDataSearch('롯데백화점', 'json')\n"
   ]
  }
 ],
 "metadata": {
  "kernelspec": {
   "display_name": "venv",
   "language": "python",
   "name": "python3"
  },
  "language_info": {
   "codemirror_mode": {
    "name": "ipython",
    "version": 3
   },
   "file_extension": ".py",
   "mimetype": "text/x-python",
   "name": "python",
   "nbconvert_exporter": "python",
   "pygments_lexer": "ipython3",
   "version": "3.11.1"
  },
  "orig_nbformat": 4,
  "vscode": {
   "interpreter": {
    "hash": "1732cc55dde7803caebda0df0f1738cc035ced225322b7cf344f368c2c40d995"
   }
  }
 },
 "nbformat": 4,
 "nbformat_minor": 2
}
